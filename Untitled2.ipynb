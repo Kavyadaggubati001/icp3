{
  "nbformat": 4,
  "nbformat_minor": 0,
  "metadata": {
    "colab": {
      "provenance": [],
      "authorship_tag": "ABX9TyMGJpZe/T4Zi9UivyibHxIj",
      "include_colab_link": true
    },
    "kernelspec": {
      "name": "python3",
      "display_name": "Python 3"
    },
    "language_info": {
      "name": "python"
    }
  },
  "cells": [
    {
      "cell_type": "markdown",
      "metadata": {
        "id": "view-in-github",
        "colab_type": "text"
      },
      "source": [
        "<a href=\"https://colab.research.google.com/github/Kavyadaggubati001/icp3/blob/main/Untitled2.ipynb\" target=\"_parent\"><img src=\"https://colab.research.google.com/assets/colab-badge.svg\" alt=\"Open In Colab\"/></a>"
      ]
    },
    {
      "cell_type": "code",
      "execution_count": 9,
      "metadata": {
        "colab": {
          "base_uri": "https://localhost:8080/"
        },
        "id": "v6GqWvt_WTC-",
        "outputId": "5634d4c2-8995-4e03-a39f-ba7f4dec139b"
      },
      "outputs": [
        {
          "output_type": "stream",
          "name": "stdout",
          "text": [
            "Total Number of Employees are: 4\n",
            "The Average Salary is: 68750.0\n"
          ]
        }
      ],
      "source": [
        "class Employee:\n",
        "    employee_count = 0\n",
        "\n",
        "    def __init__(self, name, family, salary, department):\n",
        "        self.name = name\n",
        "        self.family = family\n",
        "        self.salary = salary\n",
        "        self.department = department\n",
        "        Employee.employee_count += 1\n",
        "\n",
        "    def average_salary(employee_list):\n",
        "        sal = sum(emp.salary for emp in employee_list) / len(employee_list) if employee_list else 0\n",
        "        return sal\n",
        "\n",
        "class FullTimeEmployee(Employee):\n",
        "    def __init__(self, name, family, salary, department, work_hours):\n",
        "        super().__init__(name, family, salary, department)\n",
        "        self.work_hours = work_hours\n",
        "\n",
        "employee1 = Employee(\"Harsha\", \"Family1\", 60000, \"HR\")\n",
        "employee2 = Employee(\"Abhi\", \"Family2\", 70000, \"Finance\")\n",
        "employee3 = Employee(\"Kavya\", \"Family3\", 65000, \"Marketing\")\n",
        "full_time_employee = FullTimeEmployee(\"Rahul\", \"Family4\", 80000, \"IT\", 40)\n",
        "\n",
        "employee_list = [employee1, employee2, employee3, full_time_employee]\n",
        "\n",
        "average_salary = Employee.average_salary(employee_list)\n",
        "print(f\"Total Number of Employees are: {Employee.employee_count}\")\n",
        "print(f\"The Average Salary is: {average_salary}\")\n",
        "\n"
      ]
    },
    {
      "cell_type": "code",
      "source": [
        "import numpy as np\n",
        "x = np.arange(1,21,dtype=float)\n",
        "print(\"Vector :\",x)\n",
        "x=x.reshape(4,5)\n",
        "print(\"The reshaped array to 4 by 5 is:\",x)\n",
        "def replace(x):\n",
        "    a=x\n",
        "    a[:,np.argmax(x, axis=1)] = 0\n",
        "    return a\n",
        "result= replace(x)\n",
        "print(\"The replaced array is:\",result)"
      ],
      "metadata": {
        "colab": {
          "base_uri": "https://localhost:8080/"
        },
        "id": "xQdXPfKEZJQZ",
        "outputId": "1b4f407e-ac0b-4ea2-93e6-e8976660ea42"
      },
      "execution_count": 10,
      "outputs": [
        {
          "output_type": "stream",
          "name": "stdout",
          "text": [
            "Vector : [ 1.  2.  3.  4.  5.  6.  7.  8.  9. 10. 11. 12. 13. 14. 15. 16. 17. 18.\n",
            " 19. 20.]\n",
            "The reshaped array to 4 by 5 is: [[ 1.  2.  3.  4.  5.]\n",
            " [ 6.  7.  8.  9. 10.]\n",
            " [11. 12. 13. 14. 15.]\n",
            " [16. 17. 18. 19. 20.]]\n",
            "The replaced array is: [[ 1.  2.  3.  4.  0.]\n",
            " [ 6.  7.  8.  9.  0.]\n",
            " [11. 12. 13. 14.  0.]\n",
            " [16. 17. 18. 19.  0.]]\n"
          ]
        }
      ]
    }
  ]
}